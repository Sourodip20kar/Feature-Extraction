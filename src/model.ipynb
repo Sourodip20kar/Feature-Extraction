{
 "cells": [
  {
   "cell_type": "code",
   "execution_count": 25,
   "id": "69daf4b0-fd21-4007-a2b2-3762cec9eb3f",
   "metadata": {},
   "outputs": [],
   "source": [
    "import boto3\n",
    "import csv\n",
    "import os\n",
    "from constants import entity_unit_map"
   ]
  },
  {
   "cell_type": "code",
   "execution_count": 26,
   "id": "772dcf77-1671-4657-8b24-04bdc99a480a",
   "metadata": {},
   "outputs": [],
   "source": [
    "textract_client = boto3.client('textract')\n",
    "s3_client = boto3.client('s3')"
   ]
  },
  {
   "cell_type": "code",
   "execution_count": 27,
   "id": "df05bd27-e55a-482f-adb3-e0a1ca8b146d",
   "metadata": {},
   "outputs": [],
   "source": [
    "def create_custom_query(entity_name):\n",
    "    units = ', '.join(entity_unit_map.get(entity_name, []))  # Get the allowed units for the entity, e.g., \"cm, foot, inch\"\n",
    "    \n",
    "    custom_queries = [\n",
    "        f\"Extract the {entity_name} in {units}\",\n",
    "        f\"Extract the {entity_name} from the given object in the image\",\n",
    "        f\"Extract the {entity_name} from the image\"\n",
    "    ]\n",
    "    \n",
    "    return custom_queries"
   ]
  },
  {
   "cell_type": "code",
   "execution_count": 28,
   "id": "44db73e4-ebbd-4e95-aa32-6f36e44a04c9",
   "metadata": {},
   "outputs": [],
   "source": [
    "# Function to extract text from images using Textract with a dynamic query\n",
    "def extract_entity_value_from_image(image_bytes, entity_name):\n",
    "    queries = create_custom_query(entity_name)\n",
    "    \n",
    "    response = textract_client.analyze_document(\n",
    "        Document={'Bytes': image_bytes},\n",
    "        FeatureTypes=[\"QUERIES\"],\n",
    "        QueriesConfig={\n",
    "            \"Queries\": [{\"Text\": custom_queries, \"Alias\": None} for query in queries]\n",
    "        }\n",
    "    )\n",
    "\n",
    "    # Extract text from Textract response for the specific entity\n",
    "    extracted_text = ''\n",
    "    for block in response['Blocks']:\n",
    "        if block['BlockType'] == 'QUERY_RESULT' and block['Query']['Alias'] == entity_name:\n",
    "            extracted_text = block.get('Text', '')\n",
    "\n",
    "    # Format and validate the extracted value to match the \"x unit\" format\n",
    "    return format_extracted_value(extracted_text, entity_name)"
   ]
  },
  {
   "cell_type": "code",
   "execution_count": 29,
   "id": "7d21e2ef-bfb1-4c0c-a040-cbf17f88802b",
   "metadata": {},
   "outputs": [],
   "source": [
    "# Function to format extracted text to \"x unit\" where x is a float and unit is valid\n",
    "def format_extracted_value(extracted_text, entity_name):\n",
    "    if not extracted_text:\n",
    "        return \"\"\n",
    "\n",
    "    # Extract the first valid float number and unit from the text\n",
    "    allowed_units = entity_unit_map.get(entity_name, [])\n",
    "    pattern = r'([-+]?\\d*\\.\\d+|\\d+)\\s*(' + '|'.join(allowed_units) + r')'\n",
    "    match = re.search(pattern, extracted_text)\n",
    "    \n",
    "    if match:\n",
    "        value = match.group(1)\n",
    "        unit = match.group(2)\n",
    "        return f\"{float(value)} {unit}\"  # Ensure standard formatting with float\n",
    "    else:\n",
    "        return \"\"  # Return empty string if no valid value is found"
   ]
  },
  {
   "cell_type": "code",
   "execution_count": 30,
   "id": "259789a0-8297-4357-8195-ad692d4b3fe6",
   "metadata": {},
   "outputs": [],
   "source": [
    "def get_image_from_s3(bucket_name, s3_key):\n",
    "    s3_object = s3_client.get_object(Bucket=bucket_name, Key=s3_key)\n",
    "    return s3_object['Body'].read()"
   ]
  },
  {
   "cell_type": "code",
   "execution_count": 31,
   "id": "c8d0eb4a-8833-4639-8ef4-63c17178c101",
   "metadata": {},
   "outputs": [],
   "source": [
    "def process_images_and_save_to_csv(bucket_name, image_folder_prefix, output_csv):\n",
    "    with open(output_csv, mode='w', newline='') as csvfile:\n",
    "        fieldnames = ['index', 'group_id', 'entity_name', 'extracted_value']\n",
    "        writer = csv.DictWriter(csvfile, fieldnames=fieldnames)\n",
    "        writer.writeheader()\n",
    "\n",
    "        index = 0  # Initialize index for CSV\n",
    "        # List the directories and files in the S3 bucket\n",
    "        result = s3_client.list_objects_v2(Bucket=bucket_name, Prefix=image_folder_prefix)\n",
    "        for content in result.get('Contents', []):\n",
    "            s3_key = content['Key']\n",
    "            \n",
    "            # Extract group_id and entity_name from the S3 key path\n",
    "            parts = s3_key.split('/')\n",
    "            if len(parts) < 3:\n",
    "                continue  # Skip files that don't match the expected folder structure\n",
    "\n",
    "            group_id = parts[-3]  # Assuming folder structure: <prefix>/group_id/entity_name/image_file\n",
    "            entity_name = parts[-2]\n",
    "\n",
    "            # Skip files that are not images or folders\n",
    "            if not entity_name in entity_unit_map or s3_key.endswith('/'):\n",
    "                continue\n",
    "            \n",
    "            # Read image bytes directly from S3\n",
    "            image_bytes = get_image_from_s3(bucket_name, s3_key)\n",
    "            \n",
    "            # Extract value using Textract\n",
    "            extracted_value = extract_entity_value_from_image(image_bytes, entity_name)\n",
    "\n",
    "            # Write to CSV with index\n",
    "            writer.writerow({\n",
    "                'index': index,\n",
    "                'group_id': group_id,\n",
    "                'entity_name': entity_name,\n",
    "                'extracted_value': extracted_value\n",
    "            })\n",
    "            index += 1"
   ]
  },
  {
   "cell_type": "code",
   "execution_count": 32,
   "id": "0159d303-1a25-40c4-85ee-2b636185d5be",
   "metadata": {},
   "outputs": [
    {
     "ename": "NameError",
     "evalue": "name 'custom_queries' is not defined",
     "output_type": "error",
     "traceback": [
      "\u001b[1;31m---------------------------------------------------------------------------\u001b[0m",
      "\u001b[1;31mNameError\u001b[0m                                 Traceback (most recent call last)",
      "Cell \u001b[1;32mIn[32], line 6\u001b[0m\n\u001b[0;32m      3\u001b[0m image_folder_prefix \u001b[38;5;241m=\u001b[39m \u001b[38;5;124m'\u001b[39m\u001b[38;5;124mpreprocessed_images/train/\u001b[39m\u001b[38;5;124m'\u001b[39m\n\u001b[0;32m      4\u001b[0m output_csv \u001b[38;5;241m=\u001b[39m \u001b[38;5;124m'\u001b[39m\u001b[38;5;124moutput_file.csv\u001b[39m\u001b[38;5;124m'\u001b[39m  \u001b[38;5;66;03m# Path to the CSV output file\u001b[39;00m\n\u001b[1;32m----> 6\u001b[0m process_images_and_save_to_csv(bucket_name, image_folder_prefix, output_csv)\n",
      "Cell \u001b[1;32mIn[31], line 29\u001b[0m, in \u001b[0;36mprocess_images_and_save_to_csv\u001b[1;34m(bucket_name, image_folder_prefix, output_csv)\u001b[0m\n\u001b[0;32m     26\u001b[0m image_bytes \u001b[38;5;241m=\u001b[39m get_image_from_s3(bucket_name, s3_key)\n\u001b[0;32m     28\u001b[0m \u001b[38;5;66;03m# Extract value using Textract\u001b[39;00m\n\u001b[1;32m---> 29\u001b[0m extracted_value \u001b[38;5;241m=\u001b[39m extract_entity_value_from_image(image_bytes, entity_name)\n\u001b[0;32m     31\u001b[0m \u001b[38;5;66;03m# Write to CSV with index\u001b[39;00m\n\u001b[0;32m     32\u001b[0m writer\u001b[38;5;241m.\u001b[39mwriterow({\n\u001b[0;32m     33\u001b[0m     \u001b[38;5;124m'\u001b[39m\u001b[38;5;124mindex\u001b[39m\u001b[38;5;124m'\u001b[39m: index,\n\u001b[0;32m     34\u001b[0m     \u001b[38;5;124m'\u001b[39m\u001b[38;5;124mgroup_id\u001b[39m\u001b[38;5;124m'\u001b[39m: group_id,\n\u001b[0;32m     35\u001b[0m     \u001b[38;5;124m'\u001b[39m\u001b[38;5;124mentity_name\u001b[39m\u001b[38;5;124m'\u001b[39m: entity_name,\n\u001b[0;32m     36\u001b[0m     \u001b[38;5;124m'\u001b[39m\u001b[38;5;124mextracted_value\u001b[39m\u001b[38;5;124m'\u001b[39m: extracted_value\n\u001b[0;32m     37\u001b[0m })\n",
      "Cell \u001b[1;32mIn[28], line 9\u001b[0m, in \u001b[0;36mextract_entity_value_from_image\u001b[1;34m(image_bytes, entity_name)\u001b[0m\n\u001b[0;32m      2\u001b[0m \u001b[38;5;28;01mdef\u001b[39;00m \u001b[38;5;21mextract_entity_value_from_image\u001b[39m(image_bytes, entity_name):\n\u001b[0;32m      3\u001b[0m     queries \u001b[38;5;241m=\u001b[39m create_custom_query(entity_name)\n\u001b[0;32m      5\u001b[0m     response \u001b[38;5;241m=\u001b[39m textract_client\u001b[38;5;241m.\u001b[39manalyze_document(\n\u001b[0;32m      6\u001b[0m         Document\u001b[38;5;241m=\u001b[39m{\u001b[38;5;124m'\u001b[39m\u001b[38;5;124mBytes\u001b[39m\u001b[38;5;124m'\u001b[39m: image_bytes},\n\u001b[0;32m      7\u001b[0m         FeatureTypes\u001b[38;5;241m=\u001b[39m[\u001b[38;5;124m\"\u001b[39m\u001b[38;5;124mQUERIES\u001b[39m\u001b[38;5;124m\"\u001b[39m],\n\u001b[0;32m      8\u001b[0m         QueriesConfig\u001b[38;5;241m=\u001b[39m{\n\u001b[1;32m----> 9\u001b[0m             \u001b[38;5;124m\"\u001b[39m\u001b[38;5;124mQueries\u001b[39m\u001b[38;5;124m\"\u001b[39m: [{\u001b[38;5;124m\"\u001b[39m\u001b[38;5;124mText\u001b[39m\u001b[38;5;124m\"\u001b[39m: custom_queries, \u001b[38;5;124m\"\u001b[39m\u001b[38;5;124mAlias\u001b[39m\u001b[38;5;124m\"\u001b[39m: \u001b[38;5;28;01mNone\u001b[39;00m} \u001b[38;5;28;01mfor\u001b[39;00m query \u001b[38;5;129;01min\u001b[39;00m queries]\n\u001b[0;32m     10\u001b[0m         }\n\u001b[0;32m     11\u001b[0m     )\n\u001b[0;32m     13\u001b[0m     \u001b[38;5;66;03m# Extract text from Textract response for the specific entity\u001b[39;00m\n\u001b[0;32m     14\u001b[0m     extracted_text \u001b[38;5;241m=\u001b[39m \u001b[38;5;124m'\u001b[39m\u001b[38;5;124m'\u001b[39m\n",
      "\u001b[1;31mNameError\u001b[0m: name 'custom_queries' is not defined"
     ]
    }
   ],
   "source": [
    "if __name__ == \"__main__\":\n",
    "    bucket_name = 'ocrtextextraction'  \n",
    "    image_folder_prefix = 'preprocessed_images/train/'\n",
    "    output_csv = 'output_file.csv'  # Path to the CSV output file\n",
    "\n",
    "    process_images_and_save_to_csv(bucket_name, image_folder_prefix, output_csv)"
   ]
  },
  {
   "cell_type": "code",
   "execution_count": null,
   "id": "dac6ea8b-0e96-4a34-9e0d-13734fb05820",
   "metadata": {},
   "outputs": [],
   "source": []
  }
 ],
 "metadata": {
  "kernelspec": {
   "display_name": "Python 3 (ipykernel)",
   "language": "python",
   "name": "python3"
  },
  "language_info": {
   "codemirror_mode": {
    "name": "ipython",
    "version": 3
   },
   "file_extension": ".py",
   "mimetype": "text/x-python",
   "name": "python",
   "nbconvert_exporter": "python",
   "pygments_lexer": "ipython3",
   "version": "3.12.5"
  }
 },
 "nbformat": 4,
 "nbformat_minor": 5
}
