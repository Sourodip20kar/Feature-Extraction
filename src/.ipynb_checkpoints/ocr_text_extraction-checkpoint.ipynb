{
 "cells": [
  {
   "cell_type": "code",
   "execution_count": 2,
   "id": "50e5f650-69aa-4378-91a3-3e60b93a96ab",
   "metadata": {},
   "outputs": [
    {
     "name": "stdout",
     "output_type": "stream",
     "text": [
      "Collecting boto3\n",
      "  Downloading boto3-1.35.19-py3-none-any.whl.metadata (6.6 kB)\n",
      "Collecting botocore<1.36.0,>=1.35.19 (from boto3)\n",
      "  Downloading botocore-1.35.19-py3-none-any.whl.metadata (5.7 kB)\n",
      "Requirement already satisfied: jmespath<2.0.0,>=0.7.1 in c:\\users\\souro\\anaconda3\\envs\\ml-amazon\\lib\\site-packages (from boto3) (1.0.1)\n",
      "Collecting s3transfer<0.11.0,>=0.10.0 (from boto3)\n",
      "  Downloading s3transfer-0.10.2-py3-none-any.whl.metadata (1.7 kB)\n",
      "Requirement already satisfied: python-dateutil<3.0.0,>=2.1 in c:\\users\\souro\\anaconda3\\envs\\ml-amazon\\lib\\site-packages (from botocore<1.36.0,>=1.35.19->boto3) (2.9.0.post0)\n",
      "Requirement already satisfied: urllib3!=2.2.0,<3,>=1.25.4 in c:\\users\\souro\\anaconda3\\envs\\ml-amazon\\lib\\site-packages (from botocore<1.36.0,>=1.35.19->boto3) (2.2.2)\n",
      "Requirement already satisfied: six>=1.5 in c:\\users\\souro\\anaconda3\\envs\\ml-amazon\\lib\\site-packages (from python-dateutil<3.0.0,>=2.1->botocore<1.36.0,>=1.35.19->boto3) (1.16.0)\n",
      "Downloading boto3-1.35.19-py3-none-any.whl (139 kB)\n",
      "Downloading botocore-1.35.19-py3-none-any.whl (12.5 MB)\n",
      "   ---------------------------------------- 0.0/12.5 MB ? eta -:--:--\n",
      "   ----- ---------------------------------- 1.6/12.5 MB 7.6 MB/s eta 0:00:02\n",
      "   --------- ------------------------------ 2.9/12.5 MB 6.7 MB/s eta 0:00:02\n",
      "   -------------- ------------------------- 4.5/12.5 MB 7.1 MB/s eta 0:00:02\n",
      "   ------------------ --------------------- 5.8/12.5 MB 6.8 MB/s eta 0:00:01\n",
      "   --------------------- ------------------ 6.8/12.5 MB 6.7 MB/s eta 0:00:01\n",
      "   ------------------------- -------------- 8.1/12.5 MB 6.6 MB/s eta 0:00:01\n",
      "   ------------------------------ --------- 9.4/12.5 MB 6.6 MB/s eta 0:00:01\n",
      "   ---------------------------------- ----- 10.7/12.5 MB 6.5 MB/s eta 0:00:01\n",
      "   -------------------------------------- - 12.1/12.5 MB 6.5 MB/s eta 0:00:01\n",
      "   ---------------------------------------- 12.5/12.5 MB 6.3 MB/s eta 0:00:00\n",
      "Downloading s3transfer-0.10.2-py3-none-any.whl (82 kB)\n",
      "Installing collected packages: botocore, s3transfer, boto3\n",
      "  Attempting uninstall: botocore\n",
      "    Found existing installation: botocore 1.34.69\n",
      "    Uninstalling botocore-1.34.69:\n",
      "      Successfully uninstalled botocore-1.34.69\n",
      "Successfully installed boto3-1.35.19 botocore-1.35.19 s3transfer-0.10.2\n"
     ]
    },
    {
     "name": "stderr",
     "output_type": "stream",
     "text": [
      "ERROR: pip's dependency resolver does not currently take into account all the packages that are installed. This behaviour is the source of the following dependency conflicts.\n",
      "aiobotocore 2.12.3 requires botocore<1.34.70,>=1.34.41, but you have botocore 1.35.19 which is incompatible.\n"
     ]
    }
   ],
   "source": [
    "!pip install boto3"
   ]
  },
  {
   "cell_type": "code",
   "execution_count": 5,
   "id": "171d1050-74ec-4c50-814b-295baf664f13",
   "metadata": {},
   "outputs": [
    {
     "ename": "FileNotFoundError",
     "evalue": "[WinError 3] The system cannot find the path specified: '../preprocessed_images/test2'",
     "output_type": "error",
     "traceback": [
      "\u001b[1;31m---------------------------------------------------------------------------\u001b[0m",
      "\u001b[1;31mFileNotFoundError\u001b[0m                         Traceback (most recent call last)",
      "Cell \u001b[1;32mIn[5], line 33\u001b[0m\n\u001b[0;32m     31\u001b[0m \u001b[38;5;66;03m# Start uploading images\u001b[39;00m\n\u001b[0;32m     32\u001b[0m base_dir \u001b[38;5;241m=\u001b[39m \u001b[38;5;124m'\u001b[39m\u001b[38;5;124m../preprocessed_images/test2\u001b[39m\u001b[38;5;124m'\u001b[39m\n\u001b[1;32m---> 33\u001b[0m upload_all_images_to_s3(base_dir)\n",
      "Cell \u001b[1;32mIn[5], line 16\u001b[0m, in \u001b[0;36mupload_all_images_to_s3\u001b[1;34m(base_dir)\u001b[0m\n\u001b[0;32m     15\u001b[0m \u001b[38;5;28;01mdef\u001b[39;00m \u001b[38;5;21mupload_all_images_to_s3\u001b[39m(base_dir):\n\u001b[1;32m---> 16\u001b[0m     \u001b[38;5;28;01mfor\u001b[39;00m group_id \u001b[38;5;129;01min\u001b[39;00m os\u001b[38;5;241m.\u001b[39mlistdir(base_dir):\n\u001b[0;32m     17\u001b[0m         group_folder \u001b[38;5;241m=\u001b[39m os\u001b[38;5;241m.\u001b[39mpath\u001b[38;5;241m.\u001b[39mjoin(base_dir, group_id)\n\u001b[0;32m     19\u001b[0m         \u001b[38;5;28;01mif\u001b[39;00m os\u001b[38;5;241m.\u001b[39mpath\u001b[38;5;241m.\u001b[39misdir(group_folder):\n",
      "\u001b[1;31mFileNotFoundError\u001b[0m: [WinError 3] The system cannot find the path specified: '../preprocessed_images/test2'"
     ]
    }
   ],
   "source": [
    "import boto3\n",
    "import os\n",
    "\n",
    "# Initialize S3 client\n",
    "s3 = boto3.client('s3')\n",
    "\n",
    "# Function to upload file to S3\n",
    "def upload_to_s3(file_path, bucket_name, s3_key):\n",
    "    s3.upload_file(file_path, bucket_name, s3_key)\n",
    "    print(f\"Uploaded {file_path} to s3://{bucket_name}/{s3_key}\")\n",
    "\n",
    "# Upload all images in the preprocessed folder to S3\n",
    "bucket_name = ''\n",
    "\n",
    "def upload_all_images_to_s3(base_dir):\n",
    "    for group_id in os.listdir(base_dir):\n",
    "        group_folder = os.path.join(base_dir, group_id)\n",
    "        \n",
    "        if os.path.isdir(group_folder):\n",
    "            for entity_name in os.listdir(group_folder):\n",
    "                entity_folder = os.path.join(group_folder, entity_name)\n",
    "                \n",
    "                if os.path.isdir(entity_folder):\n",
    "                    for image_file in os.listdir(entity_folder):\n",
    "                        image_path = os.path.join(entity_folder, image_file)\n",
    "                        if image_file.endswith(('.jpg', '.png')):\n",
    "                            # Define the S3 key (how you want to structure the folder in S3)\n",
    "                            s3_key = f'{group_id}/{entity_name}/{image_file}'\n",
    "                            upload_to_s3(image_path, bucket_name, s3_key)\n",
    "\n",
    "# Start uploading images\n",
    "base_dir = '../preprocessed_images/test2'\n",
    "upload_all_images_to_s3(base_dir)\n"
   ]
  },
  {
   "cell_type": "code",
   "execution_count": null,
   "id": "5a34a553-aead-4dc7-9e77-6d6796366eaf",
   "metadata": {},
   "outputs": [],
   "source": []
  }
 ],
 "metadata": {
  "kernelspec": {
   "display_name": "Python 3 (ipykernel)",
   "language": "python",
   "name": "python3"
  },
  "language_info": {
   "codemirror_mode": {
    "name": "ipython",
    "version": 3
   },
   "file_extension": ".py",
   "mimetype": "text/x-python",
   "name": "python",
   "nbconvert_exporter": "python",
   "pygments_lexer": "ipython3",
   "version": "3.12.5"
  }
 },
 "nbformat": 4,
 "nbformat_minor": 5
}
