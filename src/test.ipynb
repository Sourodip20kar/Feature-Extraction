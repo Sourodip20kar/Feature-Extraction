{
 "cells": [
  {
   "cell_type": "markdown",
   "id": "1b70b34e",
   "metadata": {},
   "source": [
    "### Basic library imports"
   ]
  },
  {
   "cell_type": "code",
   "execution_count": 1,
   "id": "719d15af",
   "metadata": {},
   "outputs": [],
   "source": [
    "import os\n",
    "import pandas as pd\n",
    "from utils import download_images, print_directory_structure"
   ]
  },
  {
   "cell_type": "markdown",
   "id": "b8911e33",
   "metadata": {},
   "source": [
    "### Read Dataset"
   ]
  },
  {
   "cell_type": "code",
   "execution_count": 4,
   "id": "d3136aac",
   "metadata": {},
   "outputs": [],
   "source": [
    "DATASET_FOLDER = '../dataset/'\n",
    "train = pd.read_csv(os.path.join(DATASET_FOLDER, 'train.csv'))\n",
    "test = pd.read_csv(os.path.join(DATASET_FOLDER, 'test.csv'))\n",
    "sample_test = pd.read_csv(os.path.join(DATASET_FOLDER, 'sample_test.csv'))\n",
    "sample_test_out = pd.read_csv(os.path.join(DATASET_FOLDER, 'sample_test_out.csv'))"
   ]
  },
  {
   "cell_type": "code",
   "execution_count": 5,
   "id": "6c4474b9-a5c9-4086-b23b-9ef02e556551",
   "metadata": {},
   "outputs": [
    {
     "name": "stdout",
     "output_type": "stream",
     "text": [
      "   index                                         image_link  group_id  \\\n",
      "0      0  https://m.media-amazon.com/images/I/61I9XdN6OF...    748919   \n",
      "1      1  https://m.media-amazon.com/images/I/71gSRbyXmo...    916768   \n",
      "2      2  https://m.media-amazon.com/images/I/61BZ4zrjZX...    459516   \n",
      "3      3  https://m.media-amazon.com/images/I/612mrlqiI4...    459516   \n",
      "4      4  https://m.media-amazon.com/images/I/617Tl40LOX...    731432   \n",
      "\n",
      "   entity_name    entity_value  \n",
      "0  item_weight      500.0 gram  \n",
      "1  item_volume         1.0 cup  \n",
      "2  item_weight      0.709 gram  \n",
      "3  item_weight      0.709 gram  \n",
      "4  item_weight  1400 milligram  \n"
     ]
    }
   ],
   "source": [
    "print(train.head())"
   ]
  },
  {
   "cell_type": "markdown",
   "id": "60ebd689",
   "metadata": {},
   "source": [
    "### Run Sanity check using src/sanity.py"
   ]
  },
  {
   "cell_type": "code",
   "execution_count": 27,
   "id": "81bb3988",
   "metadata": {},
   "outputs": [
    {
     "name": "stdout",
     "output_type": "stream",
     "text": [
      "Parsing successfull for file: ../dataset/sample_test_out.csv\n"
     ]
    }
   ],
   "source": [
    "!python sanity.py --test_filename ../dataset/sample_test.csv --output_filename ../dataset/sample_test_out.csv"
   ]
  },
  {
   "cell_type": "code",
   "execution_count": 28,
   "id": "5aa79459",
   "metadata": {},
   "outputs": [
    {
     "name": "stdout",
     "output_type": "stream",
     "text": [
      "Error: Invalid unit [lbs] found in 6.75 lbs. Allowed units: {'litre', 'centilitre', 'centimetre', 'imperial gallon', 'decilitre', 'volt', 'kilogram', 'microgram', 'millilitre', 'ton', 'metre', 'millimetre', 'kilowatt', 'quart', 'cubic foot', 'yard', 'ounce', 'millivolt', 'microlitre', 'kilovolt', 'foot', 'gram', 'fluid ounce', 'cup', 'watt', 'pint', 'pound', 'gallon', 'inch', 'milligram', 'cubic inch'}\n"
     ]
    }
   ],
   "source": [
    "!python sanity.py --test_filename ../dataset/sample_test.csv --output_filename ../dataset/sample_test_out_fail.csv"
   ]
  },
  {
   "cell_type": "markdown",
   "id": "dbe930a8",
   "metadata": {},
   "source": [
    "### Download images"
   ]
  },
  {
   "cell_type": "code",
   "execution_count": 23,
   "id": "a3d1aad8",
   "metadata": {},
   "outputs": [
    {
     "name": "stdout",
     "output_type": "stream",
     "text": [
      "Downloading sample test images...\n"
     ]
    },
    {
     "name": "stderr",
     "output_type": "stream",
     "text": [
      "Downloading images: 100%|██████████████████████████████████████████████████████████████| 54/54 [00:05<00:00, 10.71it/s]\n",
      "Creating symlinks: 100%|██████████████████████████████████████████████████████████████| 88/88 [00:00<00:00, 692.42it/s]\n"
     ]
    }
   ],
   "source": [
    "print(\"Downloading sample test images...\")\n",
    "download_images(sample_test, '../images/sample_test')"
   ]
  },
  {
   "cell_type": "code",
   "execution_count": 7,
   "id": "9bf0ace4-944a-4cc6-a001-ac14d9fe6329",
   "metadata": {},
   "outputs": [
    {
     "name": "stdout",
     "output_type": "stream",
     "text": [
      "Downloading training images...\n"
     ]
    },
    {
     "name": "stderr",
     "output_type": "stream",
     "text": [
      "Downloading images: 100%|████████████████████████████████████████████████████| 261146/261146 [3:14:04<00:00, 22.43it/s]\n"
     ]
    }
   ],
   "source": [
    "print(\"Downloading training images...\")\n",
    "download_images(train, '../images/train')"
   ]
  },
  {
   "cell_type": "code",
   "execution_count": 38,
   "id": "47104948-a529-4508-be05-02365206261f",
   "metadata": {},
   "outputs": [
    {
     "name": "stdout",
     "output_type": "stream",
     "text": [
      "Downloading test images...\n"
     ]
    },
    {
     "name": "stderr",
     "output_type": "stream",
     "text": [
      "Downloading images: 100%|██████████████████████████████████████████████████████| 90666/90666 [00:23<00:00, 3884.73it/s]\n",
      "Creating symlinks:   0%|                                                          | 1/131187 [00:00<1:33:38, 23.35it/s]\n"
     ]
    },
    {
     "ename": "FileExistsError",
     "evalue": "[WinError 183] Cannot create a file when that file already exists: '../images/test2\\\\792578\\\\width\\\\1_11TU2clswzL.jpg' -> '../images/test2\\\\792578\\\\height\\\\1_11TU2clswzL.jpg'",
     "output_type": "error",
     "traceback": [
      "\u001b[1;31m---------------------------------------------------------------------------\u001b[0m",
      "\u001b[1;31mFileExistsError\u001b[0m                           Traceback (most recent call last)",
      "Cell \u001b[1;32mIn[38], line 2\u001b[0m\n\u001b[0;32m      1\u001b[0m \u001b[38;5;28mprint\u001b[39m(\u001b[38;5;124m\"\u001b[39m\u001b[38;5;124mDownloading test images...\u001b[39m\u001b[38;5;124m\"\u001b[39m)\n\u001b[1;32m----> 2\u001b[0m download_images(test, \u001b[38;5;124m'\u001b[39m\u001b[38;5;124m../images/test2\u001b[39m\u001b[38;5;124m'\u001b[39m)\n",
      "File \u001b[1;32m~\\downloads\\ml-amazon\\src\\utils.py:101\u001b[0m, in \u001b[0;36mdownload_images\u001b[1;34m(df, download_folder, allow_multiprocessing)\u001b[0m\n\u001b[0;32m     99\u001b[0m target_path \u001b[38;5;241m=\u001b[39m os\u001b[38;5;241m.\u001b[39mpath\u001b[38;5;241m.\u001b[39mjoin(target_folder, \u001b[38;5;124mf\u001b[39m\u001b[38;5;124m\"\u001b[39m\u001b[38;5;132;01m{\u001b[39;00mrow[\u001b[38;5;124m'\u001b[39m\u001b[38;5;124mindex\u001b[39m\u001b[38;5;124m'\u001b[39m]\u001b[38;5;132;01m}\u001b[39;00m\u001b[38;5;124m_\u001b[39m\u001b[38;5;132;01m{\u001b[39;00mPath(row[\u001b[38;5;124m'\u001b[39m\u001b[38;5;124mimage_link\u001b[39m\u001b[38;5;124m'\u001b[39m])\u001b[38;5;241m.\u001b[39mname\u001b[38;5;132;01m}\u001b[39;00m\u001b[38;5;124m\"\u001b[39m)\n\u001b[0;32m    100\u001b[0m \u001b[38;5;28;01mif\u001b[39;00m \u001b[38;5;129;01mnot\u001b[39;00m os\u001b[38;5;241m.\u001b[39mpath\u001b[38;5;241m.\u001b[39mexists(target_path):\n\u001b[1;32m--> 101\u001b[0m     os\u001b[38;5;241m.\u001b[39msymlink(source_path, target_path)\n",
      "\u001b[1;31mFileExistsError\u001b[0m: [WinError 183] Cannot create a file when that file already exists: '../images/test2\\\\792578\\\\width\\\\1_11TU2clswzL.jpg' -> '../images/test2\\\\792578\\\\height\\\\1_11TU2clswzL.jpg'"
     ]
    }
   ],
   "source": [
    "print(\"Downloading test images...\")\n",
    "download_images(test, '../images/test2')"
   ]
  },
  {
   "cell_type": "code",
   "execution_count": 8,
   "id": "89aaba53",
   "metadata": {},
   "outputs": [],
   "source": [
    "assert len(os.listdir('../images/sample_test')) > 0 , \"No sample_test images downloaded\"\n",
    "assert len(os.listdir('../images/train')) > 0, \"No training images downloaded\"\n",
    "assert len(os.listdir('../images/test')) > 0, \"No test images downloaded\""
   ]
  },
  {
   "cell_type": "code",
   "execution_count": null,
   "id": "1ba3d802",
   "metadata": {},
   "outputs": [],
   "source": []
  },
  {
   "cell_type": "code",
   "execution_count": null,
   "id": "6c38a641",
   "metadata": {},
   "outputs": [],
   "source": []
  }
 ],
 "metadata": {
  "kernelspec": {
   "display_name": "Python 3 (ipykernel)",
   "language": "python",
   "name": "python3"
  },
  "language_info": {
   "codemirror_mode": {
    "name": "ipython",
    "version": 3
   },
   "file_extension": ".py",
   "mimetype": "text/x-python",
   "name": "python",
   "nbconvert_exporter": "python",
   "pygments_lexer": "ipython3",
   "version": "3.12.5"
  }
 },
 "nbformat": 4,
 "nbformat_minor": 5
}
