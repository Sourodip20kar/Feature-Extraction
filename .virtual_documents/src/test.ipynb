


import os
import pandas as pd





DATASET_FOLDER = '../dataset/'
train = pd.read_csv(os.path.join(DATASET_FOLDER, 'train.csv'))
test = pd.read_csv(os.path.join(DATASET_FOLDER, 'test.csv'))
sample_test = pd.read_csv(os.path.join(DATASET_FOLDER, 'sample_test.csv'))
sample_test_out = pd.read_csv(os.path.join(DATASET_FOLDER, 'sample_test_out.csv'))





!python sanity.py --test_filename ../dataset/sample_test.csv --output_filename ../dataset/sample_test_out.csv


!python sanity.py --test_filename ../dataset/sample_test.csv --output_filename ../dataset/sample_test_out_fail.csv





from utils import download_images
download_images(sample_test['image_link'], '../images/sample_test')


from utils import download_images
print("Downloading training images...")
download_images(train['image_link'], '../images/train')


print("Downloading test images...")
download_images(test['image_link'], '../images/test')


assert len(os.listdir('../images/sample_test')) > 0 , "No sample_test images downloaded"
assert len(os.listdir('../images/train')) > 0, "No training images downloaded"
assert len(os.listdir('../images/test')) > 0, "No test images downloaded"


rm -rf ../images



